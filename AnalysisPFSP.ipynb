{
 "cells": [
  {
   "cell_type": "code",
   "execution_count": 1,
   "id": "65c3dc34-1680-4c20-9085-e399ccc2202a",
   "metadata": {
    "tags": []
   },
   "outputs": [],
   "source": [
    "import numpy as np\n",
    "import matplotlib.pyplot as plt\n",
    "import seaborn as sn\n",
    "import torch\n",
    "from PFSP import pfspStep, getCmax, getMeanCmax, getMinCmax, lowerBound\n",
    "from PFSPNet import gen_data\n",
    "\n",
    "from itertools import permutations\n",
    "from random import shuffle"
   ]
  },
  {
   "cell_type": "markdown",
   "id": "1084b4c6-f90d-4988-8948-66263e68e59e",
   "metadata": {},
   "source": [
    "# 示例"
   ]
  },
  {
   "cell_type": "code",
   "execution_count": 2,
   "id": "5858073b-c98d-4d73-b190-2fc4f4b5a71a",
   "metadata": {
    "tags": []
   },
   "outputs": [],
   "source": [
    "# 示例\n",
    "P = torch.tensor(\n",
    "    [[\n",
    "        [85, 53, 45, 76, 38],\n",
    "        [93, 72, 85, 72, 43],\n",
    "        [36, 89, 41, 35, 72],\n",
    "        [63, 63, 94, 42, 86],\n",
    "        [78, 95, 70, 45, 48],\n",
    "        [74, 57, 56, 33, 84.0],\n",
    "    ]]\n",
    ")\n",
    "pi = [0, 1, 3, 5, 2, 4]"
   ]
  },
  {
   "cell_type": "code",
   "execution_count": 3,
   "id": "e444cf60-1d4d-43e6-a70c-2fdc0491d76f",
   "metadata": {
    "tags": []
   },
   "outputs": [
    {
     "data": {
      "text/plain": [
       "tensor([761.])"
      ]
     },
     "execution_count": 3,
     "metadata": {},
     "output_type": "execute_result"
    }
   ],
   "source": [
    "getCmax(pi, P)"
   ]
  },
  {
   "cell_type": "code",
   "execution_count": 4,
   "id": "97ba1a5f",
   "metadata": {},
   "outputs": [
    {
     "data": {
      "text/plain": [
       "tensor([654.])"
      ]
     },
     "execution_count": 4,
     "metadata": {},
     "output_type": "execute_result"
    }
   ],
   "source": [
    "getMinCmax(P)"
   ]
  },
  {
   "cell_type": "code",
   "execution_count": 5,
   "id": "70594ee2",
   "metadata": {},
   "outputs": [
    {
     "data": {
      "text/plain": [
       "tensor([733.5990])"
      ]
     },
     "execution_count": 5,
     "metadata": {},
     "output_type": "execute_result"
    }
   ],
   "source": [
    "getMeanCmax(P)"
   ]
  },
  {
   "cell_type": "markdown",
   "id": "899ea0f4",
   "metadata": {},
   "source": [
    "# 随机观察分布"
   ]
  },
  {
   "cell_type": "code",
   "execution_count": 6,
   "id": "8da2fd0f-7bcd-42f6-a37b-4ee65591b06e",
   "metadata": {
    "tags": []
   },
   "outputs": [],
   "source": [
    "n = 7\n",
    "m = 20\n",
    "P, state = gen_data(1000, n, m)\n",
    "if torch.cuda.is_available():\n",
    "    P, state = P.cuda(), state.cuda()"
   ]
  },
  {
   "cell_type": "code",
   "execution_count": 7,
   "id": "fff0d993",
   "metadata": {},
   "outputs": [],
   "source": [
    "cmaxs = []\n",
    "for i in range(1000):\n",
    "    pi = list(range(n))\n",
    "    shuffle(pi)\n",
    "    cmaxs.append(getCmax(pi, P, state).view(1, -1))\n",
    "cmaxs = torch.cat(cmaxs, dim=0)"
   ]
  },
  {
   "cell_type": "code",
   "execution_count": 10,
   "id": "f02f6319-c517-4db9-a4be-dee1ef1162b9",
   "metadata": {
    "tags": []
   },
   "outputs": [
    {
     "data": {
      "text/plain": [
       "<seaborn.axisgrid.FacetGrid at 0x7f299a5cc7d0>"
      ]
     },
     "execution_count": 10,
     "metadata": {},
     "output_type": "execute_result"
    },
    {
     "data": {
      "image/png": "[encoded data removed]",
      "text/plain": [
       "<Figure size 360x360 with 1 Axes>"
      ]
     },
     "metadata": {
      "needs_background": "light"
     },
     "output_type": "display_data"
    }
   ],
   "source": [
    "sn.displot(cmaxs.view(-1).cpu())"
   ]
  },
  {
   "cell_type": "code",
   "execution_count": 11,
   "id": "47ac8204-1f63-4849-94e4-9ece20e298fc",
   "metadata": {
    "tags": []
   },
   "outputs": [
    {
     "name": "stdout",
     "output_type": "stream",
     "text": [
      "下界:  15.867410659790039\n",
      "随机期望:  17.588563919067383\n",
      "准确最优值:  16.791059494018555\n"
     ]
    }
   ],
   "source": [
    "print('下界: ', lowerBound(P, state).mean().item())\n",
    "print('随机期望: ', getMeanCmax(P, state).mean().item())\n",
    "print('准确最优值: ', getMinCmax(P, state).mean().item())"
   ]
  },
  {
   "cell_type": "code",
   "execution_count": 12,
   "id": "5c7efb6b",
   "metadata": {},
   "outputs": [],
   "source": [
    "def getInfo(n):\n",
    "    P, state = gen_data(1000, n, 20)\n",
    "    if torch.cuda.is_available():\n",
    "        P, state = P.cuda(), state.cuda()\n",
    "    with torch.no_grad():\n",
    "        lb = lowerBound(P, state).mean().item()\n",
    "        if n < 8:\n",
    "            minCmax = getMinCmax(P, state).mean().item()\n",
    "        mean = getMeanCmax(P, state).mean().item()\n",
    "    if n < 8:\n",
    "        return lb, minCmax, mean\n",
    "    else:\n",
    "        return lb, mean\n"
   ]
  },
  {
   "cell_type": "code",
   "execution_count": 13,
   "id": "ae0f51ac",
   "metadata": {},
   "outputs": [],
   "source": [
    "lbs = []\n",
    "minCmaxs = []\n",
    "means = []\n",
    "\n",
    "n = np.array(range(2, 8))\n",
    "\n",
    "for i in n:\n",
    "    lb, minCmax, mean = getInfo(i)\n",
    "    lbs.append(lb)\n",
    "    minCmaxs.append(minCmax)\n",
    "    means.append(mean)"
   ]
  },
  {
   "cell_type": "code",
   "execution_count": 14,
   "id": "600bcf36",
   "metadata": {},
   "outputs": [],
   "source": [
    "lbs = np.array(lbs)\n",
    "minCmaxs = np.array(minCmaxs)\n",
    "means = np.array(means)"
   ]
  },
  {
   "cell_type": "code",
   "execution_count": 15,
   "id": "27bb04ae",
   "metadata": {},
   "outputs": [
    {
     "data": {
      "image/png": "[encoded data removed]",
      "text/plain": [
       "<Figure size 432x288 with 1 Axes>"
      ]
     },
     "metadata": {
      "needs_background": "light"
     },
     "output_type": "display_data"
    }
   ],
   "source": [
    "plt.plot(n, lbs, label='Lower Bound')\n",
    "plt.plot(n, minCmaxs, label='$\\min_\\pi C_(max)$')\n",
    "plt.plot(n, means, label='$E_\\pi(Cmax)$')\n",
    "plt.legend();"
   ]
  },
  {
   "cell_type": "code",
   "execution_count": 38,
   "id": "3f43c955",
   "metadata": {},
   "outputs": [],
   "source": [
    "from scipy.optimize import minimize\n",
    "\n",
    "def aim(x):\n",
    "    y = x[0] * n + x[1] * lbs + x[2] * means\n",
    "    loss = ((y - minCmaxs)**2).sum()\n",
    "    \n",
    "    return loss\n",
    "\n",
    "res = minimize(aim, np.array([1, 1, 1]))"
   ]
  },
  {
   "cell_type": "code",
   "execution_count": 46,
   "id": "fd8a285f",
   "metadata": {},
   "outputs": [],
   "source": [
    "lbs = []\n",
    "means = []\n",
    "\n",
    "n = np.array(range(8, 21))\n",
    "\n",
    "for i in n:\n",
    "    lb, mean = getInfo(i)\n",
    "    lbs.append(lb)\n",
    "    means.append(mean)\n",
    "lbs = np.array(lbs)\n",
    "means = np.array(means)"
   ]
  },
  {
   "cell_type": "code",
   "execution_count": 47,
   "id": "a1635365",
   "metadata": {},
   "outputs": [],
   "source": [
    "PreminCmax = res.x[0] * n + res.x[1] * lbs + res.x[2] * means"
   ]
  },
  {
   "cell_type": "markdown",
   "id": "ba70c336",
   "metadata": {},
   "source": [
    "$\\min C_{max}$ 预期：\n",
    "\n",
    "  2:13.733311653137207\n",
    "  \n",
    "  3:14.384550094604492\n",
    "  \n",
    "  4:15.02747917175293\n",
    "  \n",
    "  5:15.616798400878906\n",
    "  \n",
    "  6:16.13387680053711\n",
    "  \n",
    "  7:16.74065399169922\n",
    "\n",
    "  8:17.360736402949584\n",
    "\n",
    "  9:17.834100394416716\n",
    "\n",
    " 10:18.373637074557184\n",
    "\n",
    " 11:18.96397661232485\n",
    "\n",
    " 12:19.436947242532376\n",
    "\n",
    " 13:19.936470671394456\n",
    "\n",
    " 14:20.506111830260146\n",
    "\n",
    " 15:21.01352662015546\n",
    "\n",
    " 16:21.487658386495347\n",
    "\n",
    " 17:21.995560488268183\n",
    "\n",
    " 18:22.47925392587566\n",
    " \n",
    " 19:23.001928887200457"
   ]
  }
 ],
 "metadata": {
  "kernelspec": {
   "display_name": "Python 3 (ipykernel)",
   "language": "python",
   "name": "python3"
  },
  "language_info": {
   "codemirror_mode": {
    "name": "ipython",
    "version": 3
   },
   "file_extension": ".py",
   "mimetype": "text/x-python",
   "name": "python",
   "nbconvert_exporter": "python",
   "pygments_lexer": "ipython3",
   "version": "3.7.10"
  },
  "widgets": {
   "application/vnd.jupyter.widget-state+json": {
    "state": {},
    "version_major": 2,
    "version_minor": 0
   }
  }
 },
 "nbformat": 4,
 "nbformat_minor": 5
}
