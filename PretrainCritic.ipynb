{
 "cells": [
  {
   "cell_type": "markdown",
   "id": "73bb4c68-3169-4484-82de-d2b72c0f6222",
   "metadata": {},
   "source": [
    "# Critic 预训练"
   ]
  },
  {
   "cell_type": "code",
   "execution_count": 1,
   "id": "e6a19689-a54c-43d0-a584-3995b92e437c",
   "metadata": {
    "tags": []
   },
   "outputs": [],
   "source": [
    "import os\n",
    "\n",
    "import torch\n",
    "import torch.optim as optim\n",
    "import torch.nn.functional as F\n",
    "\n",
    "from PFSP import pfspStep\n",
    "from PFSPNet import default_config, PFSPNet, PFSPDataLoader\n",
    "\n",
    "from torch.utils.tensorboard import SummaryWriter\n",
    "\n",
    "from datetime import datetime"
   ]
  },
  {
   "cell_type": "markdown",
   "id": "9e64a9bf-05c9-4b63-ad1b-ce8b570b668d",
   "metadata": {},
   "source": [
    "# Config"
   ]
  },
  {
   "cell_type": "code",
   "execution_count": 9,
   "id": "e92f16fc-23cc-4da0-a3aa-2b205c2f3f25",
   "metadata": {
    "tags": []
   },
   "outputs": [],
   "source": [
    "# problem parameters\n",
    "n = 10\n",
    "m = 20\n",
    "n_step = 5\n",
    "\n",
    "# train parameters\n",
    "n_epoch = 1000\n",
    "dataset_size = 1000\n",
    "batch_size = 1000\n",
    "\n",
    "opt = 'adam'\n",
    "lr = 1e-5\n",
    "\n",
    "# valid parameters\n",
    "validset_size = 500\n",
    "\n",
    "# model parameters\n",
    "default_config['n_layers'] = 3"
   ]
  },
  {
   "cell_type": "markdown",
   "id": "5507d208-4060-4b4e-8fd5-2d80e22e8ac5",
   "metadata": {},
   "source": [
    "# Train"
   ]
  },
  {
   "cell_type": "code",
   "execution_count": 3,
   "id": "f0605d52-1329-41d6-bde4-f618e428bfdc",
   "metadata": {
    "tags": []
   },
   "outputs": [],
   "source": [
    "model = PFSPNet(default_config)"
   ]
  },
  {
   "cell_type": "code",
   "execution_count": 10,
   "id": "92f0a0e8-ea34-4fd4-9149-e55d54200d9a",
   "metadata": {
    "tags": []
   },
   "outputs": [],
   "source": [
    "trainLoader = PFSPDataLoader(dataset_size, batch_size, n, m, PRETrainCritic=True)\n",
    "validLoader = PFSPDataLoader(validset_size, validset_size, n, m, PRETrainCritic=True)\n",
    "\n",
    "if opt == 'adam':\n",
    "    optimizer = optim.Adam(model.parameters(), lr=lr)\n",
    "elif opt == 'sgd':\n",
    "    optimizer = optim.SGD(model.parameters(), lr=lr)\n",
    "\n",
    "if torch.cuda.is_available():\n",
    "    model = model.cuda()"
   ]
  },
  {
   "cell_type": "code",
   "execution_count": 11,
   "id": "5e6ab07c-9eb9-4247-84e1-d89b93f9b644",
   "metadata": {
    "tags": []
   },
   "outputs": [],
   "source": [
    "TIMESTAMP = f'{datetime.now():%Y-%m-%dT%H-%M-%S}'\n",
    "CONFIGSTAMP = f\"n{n}to{n-n_step}_m{m}\"\n",
    "\n",
    "writer = SummaryWriter(log_dir='tb_logs/pretrain_critic/' + CONFIGSTAMP + \"/\" + TIMESTAMP + \"/\")"
   ]
  },
  {
   "cell_type": "code",
   "execution_count": 12,
   "id": "e9d2d714-f237-4237-804d-026dfaa98609",
   "metadata": {},
   "outputs": [],
   "source": [
    "k = 0"
   ]
  },
  {
   "cell_type": "code",
   "execution_count": 13,
   "id": "83668367-d1c8-486e-9794-c8e451340d86",
   "metadata": {
    "tags": []
   },
   "outputs": [],
   "source": [
    "for epoch in range(n_epoch):\n",
    "    \n",
    "    model.train()\n",
    "    \n",
    "    for P, state, label in trainLoader:\n",
    "        batch_size = P.shape[0]\n",
    "        n = P.shape[1]\n",
    "\n",
    "        baselineN = []\n",
    "\n",
    "        for i in range(n, n - n_step, -1):\n",
    "            probs, baseline = model(P, state)\n",
    "            # probs: [batch_size, n]\n",
    "            # baselines: [batch_size]\n",
    "\n",
    "            # 根据概率分布随机选取下一步\n",
    "            idx = torch.multinomial(probs.detach(), num_samples=1).view(-1)\n",
    "            prob = probs[range(batch_size), idx]\n",
    "            # prob: [batch_size]\n",
    "\n",
    "            baselineN.append(baseline)\n",
    "\n",
    "            J = P[range(batch_size), idx, :]\n",
    "            state_next = pfspStep(J, state)\n",
    "\n",
    "            idx_01 = F.one_hot(idx, num_classes=i).view(-1)\n",
    "            P_next = P.view(-1, P.shape[-1])[idx_01 == 0, :].view(-1, i - 1, P.shape[-1])\n",
    "\n",
    "            P = P_next\n",
    "            state = state_next\n",
    "\n",
    "        baselineN = torch.stack(baselineN, dim=1)\n",
    "        # [batch_size, n_step]\n",
    "\n",
    "        # Train Critic\n",
    "        loss = ((label.view(-1, 1) - baselineN)**2).sum() / batch_size\n",
    "\n",
    "        optimizer.zero_grad()\n",
    "        loss.backward()\n",
    "        optimizer.step()\n",
    "        \n",
    "        k += 1\n",
    "        writer.add_scalars(\"loss\", {\"train\": loss}, k)\n",
    "    \n",
    "    if epoch % 10 == 0:\n",
    "        model.eval()\n",
    "        with torch.no_grad():\n",
    "            for P, state, label in validLoader:\n",
    "                batch_size = P.shape[0]\n",
    "                n = P.shape[1]\n",
    "\n",
    "                baselineN = []\n",
    "\n",
    "                for i in range(n, n - n_step, -1):\n",
    "                    probs, baseline = model(P, state)\n",
    "                    # probs: [batch_size, n]\n",
    "                    # baselines: [batch_size]\n",
    "\n",
    "                    # 根据概率分布随机选取下一步\n",
    "                    idx = torch.multinomial(probs.detach(), num_samples=1).view(-1)\n",
    "                    prob = probs[range(batch_size), idx]\n",
    "                    # prob: [batch_size]\n",
    "\n",
    "                    baselineN.append(baseline)\n",
    "\n",
    "                    J = P[range(batch_size), idx, :]\n",
    "                    state_next = pfspStep(J, state)\n",
    "\n",
    "                    idx_01 = F.one_hot(idx, num_classes=i).view(-1)\n",
    "                    P_next = P.view(-1, P.shape[-1])[idx_01 == 0, :].view(-1, i - 1, P.shape[-1])\n",
    "\n",
    "                    P = P_next\n",
    "                    state = state_next\n",
    "\n",
    "                baselineN = torch.stack(baselineN, dim=1)\n",
    "                # [batch_size, n_step]\n",
    "\n",
    "                # Train Critic\n",
    "                loss = ((label.view(-1, 1) - baselineN)**2).sum() / batch_size\n",
    "\n",
    "                writer.add_scalars(\"loss\", {\"valid\": loss}, k)"
   ]
  },
  {
   "cell_type": "code",
   "execution_count": 8,
   "id": "8d16598a-3262-4f0b-bca2-36b95a1ef823",
   "metadata": {
    "tags": []
   },
   "outputs": [],
   "source": [
    "writer.close()"
   ]
  },
  {
   "cell_type": "code",
   "execution_count": 18,
   "id": "2da86010-0212-46e5-8d5d-52c7c23e9d3a",
   "metadata": {},
   "outputs": [],
   "source": [
    "# save model\n",
    "path = \"models/pretrain_critic/\" + CONFIGSTAMP\n",
    "\n",
    "folder = os.path.exists(path)\n",
    "\n",
    "if not folder:\n",
    "    os.makedirs(path)\n",
    "\n",
    "torch.save(model.state_dict(), path + \"/\" + TIMESTAMP + \".pt\")"
   ]
  }
 ],
 "metadata": {
  "kernelspec": {
   "display_name": "Python 3 (ipykernel)",
   "language": "python",
   "name": "python3"
  },
  "language_info": {
   "codemirror_mode": {
    "name": "ipython",
    "version": 3
   },
   "file_extension": ".py",
   "mimetype": "text/x-python",
   "name": "python",
   "nbconvert_exporter": "python",
   "pygments_lexer": "ipython3",
   "version": "3.7.10"
  },
  "widgets": {
   "application/vnd.jupyter.widget-state+json": {
    "state": {},
    "version_major": 2,
    "version_minor": 0
   }
  }
 },
 "nbformat": 4,
 "nbformat_minor": 5
}
