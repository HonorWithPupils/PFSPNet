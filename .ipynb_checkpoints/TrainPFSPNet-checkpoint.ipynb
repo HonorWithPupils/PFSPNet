{
 "cells": [
  {
   "cell_type": "markdown",
   "id": "5a3e55d4-0219-4b84-b0f7-831f8a65d6d4",
   "metadata": {},
   "source": [
    "# PFSPNet\n",
    "[Deep Reinforcement Learning Based Optimization Algorithm for Permutation Flow-Shop Scheduling | IEEE Journals & Magazine | IEEE Xplore](https://ieeexplore.ieee.org/document/9594768/)\n",
    "1) 采纳原文的思路，使用了 Transformer 作为网络骨干;\n",
    "2) 采用逐步增加 n 的训练方式;\n",
    "3) Critic 部分采用了."
   ]
  },
  {
   "cell_type": "code",
   "execution_count": 1,
   "id": "b55d68bd-0077-45a0-b45b-aa4157b6b1e0",
   "metadata": {
    "execution": {
     "iopub.execute_input": "2023-03-14T02:54:38.969239Z",
     "iopub.status.busy": "2023-03-14T02:54:38.969239Z",
     "iopub.status.idle": "2023-03-14T02:54:43.626888Z",
     "shell.execute_reply": "2023-03-14T02:54:43.626888Z",
     "shell.execute_reply.started": "2023-03-14T02:54:38.969239Z"
    },
    "tags": []
   },
   "outputs": [],
   "source": [
    "import numpy as np\n",
    "\n",
    "import torch\n",
    "import torch.optim as optim\n",
    "import torch.nn.functional as F\n",
    "\n",
    "from PFSP import pfspStep, getMinCmax\n",
    "from PFSPNet import default_config, PFSPNet, PFSPDataLoader\n",
    "\n",
    "from torch.utils.tensorboard import SummaryWriter\n",
    "\n",
    "from datetime import datetime"
   ]
  },
  {
   "cell_type": "code",
   "execution_count": 2,
   "id": "db78a22b-c72e-4721-a132-efe367f0e696",
   "metadata": {
    "execution": {
     "iopub.execute_input": "2023-03-14T02:54:43.628883Z",
     "iopub.status.busy": "2023-03-14T02:54:43.628883Z",
     "iopub.status.idle": "2023-03-14T02:54:43.642846Z",
     "shell.execute_reply": "2023-03-14T02:54:43.642846Z",
     "shell.execute_reply.started": "2023-03-14T02:54:43.628883Z"
    },
    "tags": []
   },
   "outputs": [],
   "source": [
    "# !cd OneDrive\\Study\\Code\\RL\\PFSPNet\n",
    "# !tensorboard --logdir=\"tb_logs\""
   ]
  },
  {
   "cell_type": "code",
   "execution_count": 10,
   "id": "d8a74914-2e60-453a-972a-f278c4b420b9",
   "metadata": {
    "execution": {
     "iopub.execute_input": "2023-03-14T02:54:49.788177Z",
     "iopub.status.busy": "2023-03-14T02:54:49.788177Z",
     "iopub.status.idle": "2023-03-14T02:54:49.806129Z",
     "shell.execute_reply": "2023-03-14T02:54:49.806129Z",
     "shell.execute_reply.started": "2023-03-14T02:54:49.788177Z"
    },
    "jupyter": {
     "source_hidden": true
    },
    "tags": []
   },
   "outputs": [],
   "source": [
    "class Solver():\n",
    "    def __init__(self, models=None, scopes=None):\n",
    "        self.models = models\n",
    "        self.scopes = scopes\n",
    "        \n",
    "    def __call__(self, P: torch.tensor, state: torch.tensor) -> torch.tensor:\n",
    "        \"\"\"\n",
    "        Args:\n",
    "            P (torch.tensor): [batch_size, n, m_max] 带选择的下个 Job 集合\n",
    "            state (torch.tensor): [batch_size, m_max] 上一个 Job 各个工序的完成时间\n",
    "\n",
    "        Returns:\n",
    "            Cmax (torch.tensor): [batch_size]\n",
    "        \"\"\"\n",
    "        \n",
    "        batch_size = P.shape[0]\n",
    "        N = P.shape[1]\n",
    "        \n",
    "        if self.models is None:\n",
    "            Cmax = getMinCmax(P, state)\n",
    "            return Cmax\n",
    "            \n",
    "        i = 0\n",
    "        model = self.models[i]\n",
    "\n",
    "        with torch.no_grad():\n",
    "            for n in range(N, 0, -1):\n",
    "\n",
    "                if n <= 5:\n",
    "                    Cmax = getMinCmax(P, state)\n",
    "                    break\n",
    "\n",
    "                #  n>5 使用模型求解\n",
    "                \n",
    "                if n <= self.scopes[i]:\n",
    "                    i += 1\n",
    "                    model = self.models[i]\n",
    "                    \n",
    "                probs, _ = model(P, state)\n",
    "                # outputs: [batch_size]\n",
    "\n",
    "                # 下一步最大概率\n",
    "                prob, idx = probs.max(-1)\n",
    "                # [batch_size]\n",
    "\n",
    "                J = P[range(batch_size), idx, :]\n",
    "                state_next = pfspStep(J, state)\n",
    "\n",
    "                idx_01 = F.one_hot(idx, num_classes=n).view(-1)\n",
    "                P_next = P.view(-1, P.shape[-1])[idx_01 == 0, :].view(-1, n - 1, P.shape[-1])\n",
    "                \n",
    "                P = P_next\n",
    "                state = state_next\n",
    "\n",
    "        return Cmax"
   ]
  },
  {
   "cell_type": "code",
   "execution_count": 11,
   "id": "83fa6ff7-b1ed-44cd-939b-07659f330345",
   "metadata": {
    "execution": {
     "iopub.execute_input": "2023-03-14T02:54:50.675125Z",
     "iopub.status.busy": "2023-03-14T02:54:50.674127Z",
     "iopub.status.idle": "2023-03-14T02:54:50.691187Z",
     "shell.execute_reply": "2023-03-14T02:54:50.690190Z",
     "shell.execute_reply.started": "2023-03-14T02:54:50.675125Z"
    },
    "jupyter": {
     "source_hidden": true
    },
    "tags": []
   },
   "outputs": [],
   "source": [
    "def trainPartRandom(model, opt_actor, opt_critic, train_P, train_state, n_step, solver):\n",
    "    \n",
    "    P = train_P\n",
    "    # P: [batch_size, n, m_max]\n",
    "\n",
    "    state = train_state\n",
    "    # state = torch.zeros_like(P[:, 0, :]).view(-1, P.shape[-1])\n",
    "    # state: [batch_size, m_max]\n",
    "    # 初始状态，假设存在上一个 Job ，其所有工序完成时间均为 0\n",
    "    \n",
    "    batch_size = P.shape[0]\n",
    "    n = P.shape[1]\n",
    "    \n",
    "    probss = []\n",
    "    \n",
    "    probN = []\n",
    "    baselineN = []\n",
    "    # [batch_size, n_step]\n",
    "    \n",
    "    for i in range(n, n - n_step, -1):\n",
    "        probs, baseline = model(P, state)\n",
    "        # probs: [batch_size, n]\n",
    "        # baselines: [batch_size]\n",
    "        \n",
    "        probss.append(probs)\n",
    "        \n",
    "        # 根据概率分布随机选取下一步\n",
    "        idx = torch.multinomial(probs, num_samples=1).view(-1)\n",
    "        prob = probs[range(batch_size), idx]\n",
    "        # prob: [batch_size]\n",
    "        \n",
    "        probN.append(prob)\n",
    "        baselineN.append(baseline)\n",
    "        \n",
    "        J = P[range(batch_size), idx, :]\n",
    "        state_next = pfspStep(J, state)\n",
    "        \n",
    "        idx_01 = F.one_hot(idx, num_classes=i).view(-1)\n",
    "        P_next = P.view(-1, P.shape[-1])[idx_01 == 0, :].view(-1, i - 1, P.shape[-1])\n",
    "        \n",
    "        P = P_next\n",
    "        state = state_next\n",
    "        \n",
    "    probN = torch.stack(probN, dim=1)\n",
    "    baselineN = torch.stack(baselineN, dim=1)\n",
    "    \n",
    "    Cmax = solver(P, state)\n",
    "    \n",
    "    # Train Critic\n",
    "    loss = ((Cmax.detach().view(-1, 1) - baselineN)**2).sum() / batch_size\n",
    "    \n",
    "    opt_critic.zero_grad()\n",
    "    loss.backward(retain_graph=True)\n",
    "    opt_critic.step()\n",
    "    \n",
    "    # Train Actor\n",
    "    reinforcement = ((Cmax.view(-1, 1) - baselineN).detach() * torch.log(probN)).sum() / batch_size\n",
    "    \n",
    "    opt_actor.zero_grad()\n",
    "    reinforcement.backward()\n",
    "    opt_actor.step()\n",
    "    \n",
    "    return Cmax, probss, baselineN"
   ]
  },
  {
   "cell_type": "markdown",
   "id": "6b6048b4-f0f7-4b5a-a76b-b740053370a1",
   "metadata": {},
   "source": [
    "# Train"
   ]
  },
  {
   "cell_type": "code",
   "execution_count": 36,
   "id": "3321bdaf-20fd-4039-82af-984e1458bf79",
   "metadata": {
    "execution": {
     "iopub.execute_input": "2023-03-14T04:08:36.533540Z",
     "iopub.status.busy": "2023-03-14T04:08:36.532543Z",
     "iopub.status.idle": "2023-03-14T04:08:36.549497Z",
     "shell.execute_reply": "2023-03-14T04:08:36.549497Z",
     "shell.execute_reply.started": "2023-03-14T04:08:36.533540Z"
    },
    "tags": []
   },
   "outputs": [],
   "source": [
    "# problem parameters\n",
    "n = 10\n",
    "m = 20\n",
    "n_step = 5\n",
    "\n",
    "# train parameters\n",
    "n_epoch = 200\n",
    "dataset_size = 200\n",
    "batch_size = 200\n",
    "\n",
    "opt = 'adam'\n",
    "lr = 1e-5\n",
    "\n",
    "# valid parameters\n",
    "validset_size = 200\n",
    "\n",
    "# model parameters\n",
    "default_config['n_layers'] = 3"
   ]
  },
  {
   "cell_type": "code",
   "execution_count": 37,
   "id": "daea1cfc-5701-4013-adef-454e8478bb0b",
   "metadata": {
    "execution": {
     "iopub.execute_input": "2023-03-14T04:08:36.759921Z",
     "iopub.status.busy": "2023-03-14T04:08:36.759921Z",
     "iopub.status.idle": "2023-03-14T04:08:36.940357Z",
     "shell.execute_reply": "2023-03-14T04:08:36.940357Z",
     "shell.execute_reply.started": "2023-03-14T04:08:36.759921Z"
    },
    "tags": []
   },
   "outputs": [],
   "source": [
    "model = PFSPNet(default_config)"
   ]
  },
  {
   "cell_type": "code",
   "execution_count": null,
   "id": "1672ec03-b0e6-4ee2-9965-064fc59cade3",
   "metadata": {},
   "outputs": [],
   "source": [
    "trainLoader = PFSPDataLoader(dataset_size, batch_size, n, m)\n",
    "validLoader = PFSPDataLoader(validset_size, validset_size, n, m)\n",
    "trainsolver = Solver()\n",
    "validsolver = Solver([model], [5])\n",
    "\n",
    "if opt == 'adam':\n",
    "    optimizer_actor = optim.Adam(model.parameters(), lr=lr)\n",
    "elif opt == 'sgd':\n",
    "    optimizer_actor = optim.SGD(model.parameters(), lr=lr)\n",
    "    \n",
    "if opt == 'adam':\n",
    "    optimizer_critic = optim.Adam(model.crtic.parameters(), lr=lr)\n",
    "elif opt == 'sgd':\n",
    "    optimizer_critic = optim.SGD(model.crtic.parameters(), lr=lr)\n",
    "\n",
    "if torch.cuda.is_available():\n",
    "    model = model.cuda()"
   ]
  },
  {
   "cell_type": "code",
   "execution_count": null,
   "id": "c69e4cb2-c318-49c6-830f-73fe4844458f",
   "metadata": {},
   "outputs": [],
   "source": [
    "TIMESTAMP = f\"{datetime.now():%Y-%m-%dT%H-%M-%S/}\"\n",
    "CONFIGSTAMP = f\"n{n}to{n-n_step}_m{m}\"\n",
    "\n",
    "writer = SummaryWriter(log_dir=\"tb_logs/train_PFSPNet/\" + CONFIGSTAMP + \"/\" + TIMESTAMP)"
   ]
  },
  {
   "cell_type": "code",
   "execution_count": null,
   "id": "84fba386-6f42-421a-bae4-9ea5956f4fab",
   "metadata": {},
   "outputs": [],
   "source": [
    "k = 0  # 训练次数"
   ]
  },
  {
   "cell_type": "code",
   "execution_count": 31,
   "id": "bc9623d0-11a6-4d9c-90d8-ece62a13f6d8",
   "metadata": {
    "execution": {
     "iopub.execute_input": "2023-03-13T15:35:16.323072Z",
     "iopub.status.busy": "2023-03-13T15:35:16.323072Z",
     "iopub.status.idle": "2023-03-13T15:41:44.186286Z",
     "shell.execute_reply": "2023-03-13T15:41:44.185498Z",
     "shell.execute_reply.started": "2023-03-13T15:35:16.323072Z"
    },
    "tags": []
   },
   "outputs": [],
   "source": [
    "for epoch in range(n_epoch):\n",
    "\n",
    "    # train\n",
    "    model.train()\n",
    "    for train_P, train_state in trainLoader:\n",
    "        Cmax, probs, baselines = trainPartRandom(\n",
    "            model, optimizer_actor, optimizer_critic, train_P, train_state, n_step, trainsolver\n",
    "        )\n",
    "\n",
    "    k += 1\n",
    "    for i, prob in enumerate(probs):\n",
    "        writer.add_scalar(f\"max prob for {n-i} step\", prob.max(dim=-1)[0].mean(), k)\n",
    "    for i, baseline in enumerate(baselines.T):\n",
    "        writer.add_scalar(f\"baseline for {n-i} step\", baseline.mean(), k)\n",
    "    writer.add_scalar(\"Cmax\", Cmax.mean(), k)\n",
    "\n",
    "    # validation\n",
    "    model.eval()\n",
    "    if epoch % 20 == 0:\n",
    "        for valid_P, valid_state in trainLoader:\n",
    "            Cmax_valid = validsolver(valid_P, valid_state)\n",
    "\n",
    "        writer.add_scalar(\"Cmax_valid\", Cmax_valid.mean(), k)"
   ]
  },
  {
   "cell_type": "code",
   "execution_count": 17,
   "id": "656f9c6e-8222-4b96-b6c3-d43152a00252",
   "metadata": {
    "execution": {
     "iopub.execute_input": "2023-03-13T15:27:17.070766Z",
     "iopub.status.busy": "2023-03-13T15:27:17.070766Z",
     "iopub.status.idle": "2023-03-13T15:27:17.085726Z",
     "shell.execute_reply": "2023-03-13T15:27:17.085726Z",
     "shell.execute_reply.started": "2023-03-13T15:27:17.070766Z"
    },
    "tags": []
   },
   "outputs": [],
   "source": [
    "writer.close()"
   ]
  },
  {
   "cell_type": "code",
   "execution_count": null,
   "id": "00b45dee-6050-4e99-b466-2acb19a27543",
   "metadata": {},
   "outputs": [],
   "source": [
    "torch.save(model.state_dict(), \"models/train_PFSPNet/\" + CONFIGSTAMP + \"/\" + TIMESTAMP)"
   ]
  }
 ],
 "metadata": {
  "kernelspec": {
   "display_name": "Study",
   "language": "python",
   "name": "study"
  },
  "language_info": {
   "codemirror_mode": {
    "name": "ipython",
    "version": 3
   },
   "file_extension": ".py",
   "mimetype": "text/x-python",
   "name": "python",
   "nbconvert_exporter": "python",
   "pygments_lexer": "ipython3",
   "version": "3.10.9"
  },
  "widgets": {
   "application/vnd.jupyter.widget-state+json": {
    "state": {},
    "version_major": 2,
    "version_minor": 0
   }
  }
 },
 "nbformat": 4,
 "nbformat_minor": 5
}
