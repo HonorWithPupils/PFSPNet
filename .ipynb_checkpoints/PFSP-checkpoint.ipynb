{
 "cells": [
  {
   "cell_type": "code",
   "execution_count": 3,
   "id": "65c3dc34-1680-4c20-9085-e399ccc2202a",
   "metadata": {
    "execution": {
     "iopub.execute_input": "2023-03-11T01:37:46.869765Z",
     "iopub.status.busy": "2023-03-11T01:37:46.869765Z",
     "iopub.status.idle": "2023-03-11T01:37:50.816742Z",
     "shell.execute_reply": "2023-03-11T01:37:50.816742Z",
     "shell.execute_reply.started": "2023-03-11T01:37:46.869765Z"
    },
    "tags": []
   },
   "outputs": [],
   "source": [
    "import numpy as np\n",
    "import matplotlib.pyplot as plt\n",
    "import seaborn as sn"
   ]
  },
  {
   "cell_type": "markdown",
   "id": "1084b4c6-f90d-4988-8948-66263e68e59e",
   "metadata": {},
   "source": [
    "# PFSP"
   ]
  },
  {
   "cell_type": "code",
   "execution_count": 44,
   "id": "1e2885c6-e016-452b-b9bc-84f102c5af44",
   "metadata": {
    "execution": {
     "iopub.execute_input": "2023-03-11T03:48:31.221432Z",
     "iopub.status.busy": "2023-03-11T03:48:31.214801Z",
     "iopub.status.idle": "2023-03-11T03:48:31.249410Z",
     "shell.execute_reply": "2023-03-11T03:48:31.245421Z",
     "shell.execute_reply.started": "2023-03-11T03:48:31.221432Z"
    },
    "tags": []
   },
   "outputs": [],
   "source": [
    "class PFSP:\n",
    "    def __init__(self, P: np.ndarray):\n",
    "        self.P = P\n",
    "        self.N = P.shape[0]\n",
    "        self.M = P.shape[1]\n",
    "\n",
    "    def Cmax(self, pi: list):\n",
    "        C = np.zeros_like(self.P)\n",
    "        C[0, 0] = self.P[pi[0], 0]\n",
    "        for i in range(1, self.N):\n",
    "            C[i, 0] = C[i - 1, 0] + self.P[pi[i], 0]\n",
    "        for j in range(1, self.M):\n",
    "            C[0, j] = C[0, j - 1] + self.P[pi[0], j]\n",
    "        for i in range(1, self.N):\n",
    "            for j in range(1, self.M):\n",
    "                C[i, j] = max(C[i - 1, j], C[i, j - 1]) + self.P[pi[i], j]\n",
    "        return C[-1, -1]"
   ]
  },
  {
   "cell_type": "code",
   "execution_count": 45,
   "id": "5858073b-c98d-4d73-b190-2fc4f4b5a71a",
   "metadata": {
    "execution": {
     "iopub.execute_input": "2023-03-11T03:48:53.057522Z",
     "iopub.status.busy": "2023-03-11T03:48:53.057522Z",
     "iopub.status.idle": "2023-03-11T03:48:53.068492Z",
     "shell.execute_reply": "2023-03-11T03:48:53.068492Z",
     "shell.execute_reply.started": "2023-03-11T03:48:53.057522Z"
    },
    "tags": []
   },
   "outputs": [],
   "source": [
    "# 示例\n",
    "P = np.array(\n",
    "    [\n",
    "        [85, 53, 45, 76, 38],\n",
    "        [93, 72, 85, 72, 43],\n",
    "        [36, 89, 41, 35, 72],\n",
    "        [63, 63, 94, 42, 86],\n",
    "        [78, 95, 70, 45, 48],\n",
    "        [74, 57, 56, 33, 84],\n",
    "    ]\n",
    ")\n",
    "pi = [0, 1, 3, 5, 2, 4]"
   ]
  },
  {
   "cell_type": "code",
   "execution_count": 46,
   "id": "e444cf60-1d4d-43e6-a70c-2fdc0491d76f",
   "metadata": {
    "execution": {
     "iopub.execute_input": "2023-03-11T03:48:53.769533Z",
     "iopub.status.busy": "2023-03-11T03:48:53.769533Z",
     "iopub.status.idle": "2023-03-11T03:48:53.783495Z",
     "shell.execute_reply": "2023-03-11T03:48:53.783495Z",
     "shell.execute_reply.started": "2023-03-11T03:48:53.769533Z"
    },
    "tags": []
   },
   "outputs": [
    {
     "data": {
      "text/plain": [
       "761"
      ]
     },
     "execution_count": 46,
     "metadata": {},
     "output_type": "execute_result"
    }
   ],
   "source": [
    "pfsp = PFSP(P)\n",
    "pfsp.Cmax(pi)"
   ]
  },
  {
   "cell_type": "code",
   "execution_count": 33,
   "id": "5f0db5bb-5ed0-4cff-bb43-4744097f1aca",
   "metadata": {
    "execution": {
     "iopub.execute_input": "2023-03-11T01:58:51.831336Z",
     "iopub.status.busy": "2023-03-11T01:58:51.831336Z",
     "iopub.status.idle": "2023-03-11T01:58:51.845298Z",
     "shell.execute_reply": "2023-03-11T01:58:51.845298Z",
     "shell.execute_reply.started": "2023-03-11T01:58:51.831336Z"
    },
    "tags": []
   },
   "outputs": [],
   "source": [
    "def RandomP(n, m, m_max=20):\n",
    "    P = 0.6 * np.random.rand(n, m_max) + 0.2 * np.random.rand(n, 1) + 0.2 * np.random.rand(1, m_max)\n",
    "    P[:, m:] = 0\n",
    "    return P"
   ]
  },
  {
   "cell_type": "code",
   "execution_count": 34,
   "id": "a89f6339-f326-4209-8bab-68a10227594f",
   "metadata": {
    "execution": {
     "iopub.execute_input": "2023-03-11T01:58:52.137585Z",
     "iopub.status.busy": "2023-03-11T01:58:52.137585Z",
     "iopub.status.idle": "2023-03-11T01:58:52.152546Z",
     "shell.execute_reply": "2023-03-11T01:58:52.152546Z",
     "shell.execute_reply.started": "2023-03-11T01:58:52.137585Z"
    },
    "tags": []
   },
   "outputs": [],
   "source": [
    "def baseline(P, m):\n",
    "    P = P[:, :m]\n",
    "    res = P.sum(0).max(0) + P.sum(-1).min(-1) - P[P.sum(-1).argmin(), P.sum(0).argmax()]\n",
    "    return res"
   ]
  },
  {
   "cell_type": "code",
   "execution_count": 35,
   "id": "d5db51f8-ed9c-4694-9021-a23caaf1bf97",
   "metadata": {
    "execution": {
     "iopub.execute_input": "2023-03-11T01:58:53.569740Z",
     "iopub.status.busy": "2023-03-11T01:58:53.569740Z",
     "iopub.status.idle": "2023-03-11T01:58:53.606224Z",
     "shell.execute_reply": "2023-03-11T01:58:53.605718Z",
     "shell.execute_reply.started": "2023-03-11T01:58:53.569740Z"
    },
    "tags": []
   },
   "outputs": [],
   "source": [
    "from itertools import permutations\n",
    "\n",
    "n = 6\n",
    "\n",
    "P = \n",
    "\n",
    "Cmaxs = []\n",
    "pis = []\n",
    "for pi in permutations(range(n)):\n",
    "    Cmax = pfsp.Cmax(pi)\n",
    "    # print(f\"{pi} Cmax = {Cmax}\")\n",
    "    Cmaxs.append(Cmax)\n",
    "    pis.append(pi)"
   ]
  },
  {
   "cell_type": "code",
   "execution_count": 36,
   "id": "8da2fd0f-7bcd-42f6-a37b-4ee65591b06e",
   "metadata": {
    "execution": {
     "iopub.execute_input": "2023-03-11T01:58:58.016857Z",
     "iopub.status.busy": "2023-03-11T01:58:58.016857Z",
     "iopub.status.idle": "2023-03-11T01:58:58.025833Z",
     "shell.execute_reply": "2023-03-11T01:58:58.025833Z",
     "shell.execute_reply.started": "2023-03-11T01:58:58.016857Z"
    },
    "tags": []
   },
   "outputs": [],
   "source": [
    "Cmaxs = np.array(Cmaxs)\n",
    "pis = np.array(pis)"
   ]
  },
  {
   "cell_type": "code",
   "execution_count": 37,
   "id": "f02f6319-c517-4db9-a4be-dee1ef1162b9",
   "metadata": {
    "execution": {
     "iopub.execute_input": "2023-03-11T01:58:58.288972Z",
     "iopub.status.busy": "2023-03-11T01:58:58.288972Z",
     "iopub.status.idle": "2023-03-11T01:58:58.507388Z",
     "shell.execute_reply": "2023-03-11T01:58:58.507388Z",
     "shell.execute_reply.started": "2023-03-11T01:58:58.288972Z"
    },
    "tags": []
   },
   "outputs": [
    {
     "data": {
      "text/plain": [
       "<seaborn.axisgrid.FacetGrid at 0x1fcd338a290>"
      ]
     },
     "execution_count": 37,
     "metadata": {},
     "output_type": "execute_result"
    },
    {
     "data": {
      "image/png": "[encoded data removed]",
      "text/plain": [
       "<Figure size 500x500 with 1 Axes>"
      ]
     },
     "metadata": {},
     "output_type": "display_data"
    }
   ],
   "source": [
    "sn.displot(Cmaxs)"
   ]
  },
  {
   "cell_type": "code",
   "execution_count": 38,
   "id": "47ac8204-1f63-4849-94e4-9ece20e298fc",
   "metadata": {
    "execution": {
     "iopub.execute_input": "2023-03-11T01:59:03.487218Z",
     "iopub.status.busy": "2023-03-11T01:59:03.487218Z",
     "iopub.status.idle": "2023-03-11T01:59:03.502178Z",
     "shell.execute_reply": "2023-03-11T01:59:03.502178Z",
     "shell.execute_reply.started": "2023-03-11T01:59:03.487218Z"
    },
    "tags": []
   },
   "outputs": [
    {
     "data": {
      "text/plain": [
       "12.294351365008398"
      ]
     },
     "execution_count": 38,
     "metadata": {},
     "output_type": "execute_result"
    }
   ],
   "source": [
    "Basline = 0\n",
    "for i in range(100):\n",
    "    P = RandomP(7, 20)\n",
    "    Basline += baseline(P, 20)\n",
    "Basline = Basline / 100\n",
    "Basline"
   ]
  },
  {
   "cell_type": "code",
   "execution_count": 39,
   "id": "ab28f0e1-44bc-407c-9a87-3cde3cb90a28",
   "metadata": {
    "execution": {
     "iopub.execute_input": "2023-03-11T01:59:07.702060Z",
     "iopub.status.busy": "2023-03-11T01:59:07.702060Z",
     "iopub.status.idle": "2023-03-11T01:59:07.716022Z",
     "shell.execute_reply": "2023-03-11T01:59:07.716022Z",
     "shell.execute_reply.started": "2023-03-11T01:59:07.702060Z"
    },
    "tags": []
   },
   "outputs": [
    {
     "data": {
      "text/plain": [
       "654"
      ]
     },
     "execution_count": 39,
     "metadata": {},
     "output_type": "execute_result"
    }
   ],
   "source": [
    "Cmaxs.min()"
   ]
  },
  {
   "cell_type": "code",
   "execution_count": 40,
   "id": "3e9f5dce-f02a-470d-a060-70ee31fe651d",
   "metadata": {
    "execution": {
     "iopub.execute_input": "2023-03-11T01:59:08.841711Z",
     "iopub.status.busy": "2023-03-11T01:59:08.841711Z",
     "iopub.status.idle": "2023-03-11T01:59:08.857667Z",
     "shell.execute_reply": "2023-03-11T01:59:08.857667Z",
     "shell.execute_reply.started": "2023-03-11T01:59:08.841711Z"
    },
    "tags": []
   },
   "outputs": [
    {
     "data": {
      "text/plain": [
       "732.4458333333333"
      ]
     },
     "execution_count": 40,
     "metadata": {},
     "output_type": "execute_result"
    }
   ],
   "source": [
    "Cmaxs.mean()"
   ]
  },
  {
   "cell_type": "code",
   "execution_count": 41,
   "id": "a48381c3-1cb2-4a48-940f-d45cc7657b52",
   "metadata": {
    "execution": {
     "iopub.execute_input": "2023-03-11T01:59:12.729912Z",
     "iopub.status.busy": "2023-03-11T01:59:12.729912Z",
     "iopub.status.idle": "2023-03-11T01:59:12.748861Z",
     "shell.execute_reply": "2023-03-11T01:59:12.748861Z",
     "shell.execute_reply.started": "2023-03-11T01:59:12.729912Z"
    },
    "tags": []
   },
   "outputs": [
    {
     "data": {
      "text/plain": [
       "865.7803993055556"
      ]
     },
     "execution_count": 41,
     "metadata": {},
     "output_type": "execute_result"
    }
   ],
   "source": [
    "Cmaxs.var()"
   ]
  },
  {
   "cell_type": "markdown",
   "id": "95dfcb4d-cb9d-4aad-8603-4875e00acb72",
   "metadata": {},
   "source": [
    "## 排序相关性分析\n",
    "观察优秀的解是否有排序相关性"
   ]
  },
  {
   "cell_type": "code",
   "execution_count": 42,
   "id": "5a777e18-85da-4f51-9bfb-7224fedb3f61",
   "metadata": {
    "execution": {
     "iopub.execute_input": "2023-03-11T01:59:19.645329Z",
     "iopub.status.busy": "2023-03-11T01:59:19.645329Z",
     "iopub.status.idle": "2023-03-11T01:59:19.649318Z",
     "shell.execute_reply": "2023-03-11T01:59:19.649318Z",
     "shell.execute_reply.started": "2023-03-11T01:59:19.645329Z"
    },
    "tags": []
   },
   "outputs": [],
   "source": [
    "index = Cmaxs.argsort()\n",
    "Cmaxs_sorted = Cmaxs[index]\n",
    "pis_sorted = pis[index]"
   ]
  },
  {
   "cell_type": "code",
   "execution_count": 43,
   "id": "7ccc5a49-4c7a-4a8e-a257-567cd241a0e4",
   "metadata": {
    "execution": {
     "iopub.execute_input": "2023-03-11T01:59:19.986769Z",
     "iopub.status.busy": "2023-03-11T01:59:19.986769Z",
     "iopub.status.idle": "2023-03-11T01:59:20.006688Z",
     "shell.execute_reply": "2023-03-11T01:59:20.005690Z",
     "shell.execute_reply.started": "2023-03-11T01:59:19.986769Z"
    },
    "tags": []
   },
   "outputs": [
    {
     "name": "stdout",
     "output_type": "stream",
     "text": [
      "[2 3 1 4 5 0] Cmax: 654\n",
      "[3 2 1 4 5 0] Cmax: 667\n",
      "[3 2 1 5 4 0] Cmax: 668\n",
      "[2 1 5 3 4 0] Cmax: 668\n",
      "[3 2 5 1 4 0] Cmax: 668\n",
      "[2 5 3 1 4 0] Cmax: 668\n",
      "[2 3 5 1 4 0] Cmax: 668\n",
      "[2 3 1 5 4 0] Cmax: 668\n",
      "[2 3 4 1 5 0] Cmax: 677\n",
      "[2 1 3 5 4 0] Cmax: 678\n"
     ]
    }
   ],
   "source": [
    "for i in range(10):\n",
    "    print(f\"{pis_sorted[i]} Cmax: {Cmaxs_sorted[i]}\")"
   ]
  },
  {
   "cell_type": "markdown",
   "id": "1397bf3d-dc01-42de-ae83-9dfeb09bebe1",
   "metadata": {},
   "source": [
    "### 边相似:\n",
    "相同的边（例：3->2）占比"
   ]
  },
  {
   "cell_type": "code",
   "execution_count": 17,
   "id": "eb939a9c-6744-43de-a391-18cee71e8548",
   "metadata": {
    "execution": {
     "iopub.execute_input": "2023-03-09T06:06:09.329017Z",
     "iopub.status.busy": "2023-03-09T06:06:09.329017Z",
     "iopub.status.idle": "2023-03-09T06:06:09.342980Z",
     "shell.execute_reply": "2023-03-09T06:06:09.342011Z",
     "shell.execute_reply.started": "2023-03-09T06:06:09.329017Z"
    },
    "tags": []
   },
   "outputs": [],
   "source": [
    "def EdgeSim(a, b):\n",
    "    n = len(a)\n",
    "\n",
    "    def getG(a):\n",
    "        n = len(a)\n",
    "        G = np.zeros((n, n))\n",
    "        for i in range(1, n):\n",
    "            G[a[i - 1], a[i]] = 1\n",
    "        return G\n",
    "\n",
    "    Ga = getG(a)\n",
    "    Gb = getG(b)\n",
    "    return (Ga * Gb).sum() / (n - 1)"
   ]
  },
  {
   "cell_type": "code",
   "execution_count": 18,
   "id": "013dbd84-f117-422e-a7d0-6e56236b639f",
   "metadata": {
    "execution": {
     "iopub.execute_input": "2023-03-09T06:06:15.189519Z",
     "iopub.status.busy": "2023-03-09T06:06:15.189519Z",
     "iopub.status.idle": "2023-03-09T06:06:15.434471Z",
     "shell.execute_reply": "2023-03-09T06:06:15.434471Z",
     "shell.execute_reply.started": "2023-03-09T06:06:15.189519Z"
    },
    "tags": []
   },
   "outputs": [],
   "source": [
    "from scipy.signal import savgol_filter as ft\n",
    "\n",
    "x = np.array([EdgeSim(pis_sorted[0], pi) for pi in pis_sorted])\n",
    "for i in range(1, 10):\n",
    "    x += np.array([EdgeSim(pis_sorted[i], pi) for pi in pis_sorted])\n",
    "x /= 10\n",
    "x = ft(x, 21, 1)"
   ]
  },
  {
   "cell_type": "code",
   "execution_count": 19,
   "id": "dea8a29f-4789-4132-94d0-ccd0267af0b6",
   "metadata": {
    "execution": {
     "iopub.execute_input": "2023-03-09T06:06:16.697855Z",
     "iopub.status.busy": "2023-03-09T06:06:16.697855Z",
     "iopub.status.idle": "2023-03-09T06:06:16.827507Z",
     "shell.execute_reply": "2023-03-09T06:06:16.827507Z",
     "shell.execute_reply.started": "2023-03-09T06:06:16.697855Z"
    },
    "tags": []
   },
   "outputs": [
    {
     "data": {
      "text/plain": [
       "[<matplotlib.lines.Line2D at 0x1906ea37430>]"
      ]
     },
     "execution_count": 19,
     "metadata": {},
     "output_type": "execute_result"
    },
    {
     "data": {
      "image/png": "[encoded data removed]",
      "text/plain": [
       "<Figure size 640x480 with 1 Axes>"
      ]
     },
     "metadata": {},
     "output_type": "display_data"
    }
   ],
   "source": [
    "plt.plot(x)"
   ]
  },
  {
   "cell_type": "markdown",
   "id": "cfb55202-6353-402b-a59c-20f8f6cc1e30",
   "metadata": {
    "tags": []
   },
   "source": [
    "### 排名相关性:\n",
    "相同前后关系所占比例"
   ]
  },
  {
   "cell_type": "code",
   "execution_count": 20,
   "id": "792026d7-4b24-4c85-ae1a-21795985fb31",
   "metadata": {
    "execution": {
     "iopub.execute_input": "2023-03-09T06:06:30.819005Z",
     "iopub.status.busy": "2023-03-09T06:06:30.818007Z",
     "iopub.status.idle": "2023-03-09T06:06:30.822993Z",
     "shell.execute_reply": "2023-03-09T06:06:30.822993Z",
     "shell.execute_reply.started": "2023-03-09T06:06:30.819005Z"
    },
    "tags": []
   },
   "outputs": [],
   "source": [
    "def RankCorrelation(a, b):\n",
    "    n = len(a)\n",
    "\n",
    "    def getG(a):\n",
    "        n = len(a)\n",
    "        G = np.zeros((n, n))\n",
    "        for i in range(n):\n",
    "            for j in range(i + 1, n):\n",
    "                G[a[i], a[j]] = 1\n",
    "        return G\n",
    "\n",
    "    Ga = getG(a)\n",
    "    Gb = getG(b)\n",
    "    N = n * (n - 1) / 2\n",
    "    C = (Ga * Gb).sum()\n",
    "    D = N - C\n",
    "    return (C - D) / N"
   ]
  },
  {
   "cell_type": "code",
   "execution_count": 21,
   "id": "63d0dbc7-d39a-4c43-a742-5b2d157a01ad",
   "metadata": {
    "execution": {
     "iopub.execute_input": "2023-03-09T06:06:31.453272Z",
     "iopub.status.busy": "2023-03-09T06:06:31.453272Z",
     "iopub.status.idle": "2023-03-09T06:06:31.579223Z",
     "shell.execute_reply": "2023-03-09T06:06:31.579223Z",
     "shell.execute_reply.started": "2023-03-09T06:06:31.453272Z"
    },
    "tags": []
   },
   "outputs": [],
   "source": [
    "x = np.array([RankCorrelation(pis_sorted[0], pi) for pi in pis_sorted])\n",
    "for i in range(1, 10):\n",
    "    x += np.array([RankCorrelation(pis_sorted[i], pi) for pi in pis_sorted])\n",
    "x /= 10\n",
    "x = ft(x, 11, 1)"
   ]
  },
  {
   "cell_type": "code",
   "execution_count": 22,
   "id": "bb23c79d-e6bd-43a2-bb55-6956d226b4f5",
   "metadata": {
    "execution": {
     "iopub.execute_input": "2023-03-09T06:06:32.375849Z",
     "iopub.status.busy": "2023-03-09T06:06:32.375849Z",
     "iopub.status.idle": "2023-03-09T06:06:32.524299Z",
     "shell.execute_reply": "2023-03-09T06:06:32.523796Z",
     "shell.execute_reply.started": "2023-03-09T06:06:32.375849Z"
    },
    "tags": []
   },
   "outputs": [
    {
     "data": {
      "text/plain": [
       "[<matplotlib.lines.Line2D at 0x1906ef6c520>]"
      ]
     },
     "execution_count": 22,
     "metadata": {},
     "output_type": "execute_result"
    },
    {
     "data": {
      "image/png": "[encoded data removed]",
      "text/plain": [
       "<Figure size 640x480 with 1 Axes>"
      ]
     },
     "metadata": {},
     "output_type": "display_data"
    }
   ],
   "source": [
    "plt.plot(x)"
   ]
  }
 ],
 "metadata": {
  "kernelspec": {
   "display_name": "Study",
   "language": "python",
   "name": "study"
  },
  "language_info": {
   "codemirror_mode": {
    "name": "ipython",
    "version": 3
   },
   "file_extension": ".py",
   "mimetype": "text/x-python",
   "name": "python",
   "nbconvert_exporter": "python",
   "pygments_lexer": "ipython3",
   "version": "3.10.9"
  },
  "widgets": {
   "application/vnd.jupyter.widget-state+json": {
    "state": {},
    "version_major": 2,
    "version_minor": 0
   }
  }
 },
 "nbformat": 4,
 "nbformat_minor": 5
}
